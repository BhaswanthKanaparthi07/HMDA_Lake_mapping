{
 "cells": [
  {
   "cell_type": "code",
   "execution_count": 2,
   "id": "6cc8dd4d-135e-47dd-bead-d5b06c47c685",
   "metadata": {},
   "outputs": [
    {
     "name": "stdout",
     "output_type": "stream",
     "text": [
      "Defaulting to user installation because normal site-packages is not writeable\n",
      "Requirement already satisfied: pandas in c:\\programdata\\anaconda3\\lib\\site-packages (2.2.2)\n",
      "Requirement already satisfied: folium in c:\\users\\hemanth aditya\\appdata\\roaming\\python\\python312\\site-packages (0.19.7)\n",
      "Requirement already satisfied: numpy>=1.26.0 in c:\\programdata\\anaconda3\\lib\\site-packages (from pandas) (1.26.4)\n",
      "Requirement already satisfied: python-dateutil>=2.8.2 in c:\\programdata\\anaconda3\\lib\\site-packages (from pandas) (2.9.0.post0)\n",
      "Requirement already satisfied: pytz>=2020.1 in c:\\programdata\\anaconda3\\lib\\site-packages (from pandas) (2024.1)\n",
      "Requirement already satisfied: tzdata>=2022.7 in c:\\programdata\\anaconda3\\lib\\site-packages (from pandas) (2023.3)\n",
      "Requirement already satisfied: branca>=0.6.0 in c:\\users\\hemanth aditya\\appdata\\roaming\\python\\python312\\site-packages (from folium) (0.8.1)\n",
      "Requirement already satisfied: jinja2>=2.9 in c:\\programdata\\anaconda3\\lib\\site-packages (from folium) (3.1.4)\n",
      "Requirement already satisfied: requests in c:\\programdata\\anaconda3\\lib\\site-packages (from folium) (2.32.3)\n",
      "Requirement already satisfied: xyzservices in c:\\programdata\\anaconda3\\lib\\site-packages (from folium) (2022.9.0)\n",
      "Requirement already satisfied: MarkupSafe>=2.0 in c:\\programdata\\anaconda3\\lib\\site-packages (from jinja2>=2.9->folium) (2.1.3)\n",
      "Requirement already satisfied: six>=1.5 in c:\\programdata\\anaconda3\\lib\\site-packages (from python-dateutil>=2.8.2->pandas) (1.16.0)\n",
      "Requirement already satisfied: charset-normalizer<4,>=2 in c:\\programdata\\anaconda3\\lib\\site-packages (from requests->folium) (3.3.2)\n",
      "Requirement already satisfied: idna<4,>=2.5 in c:\\programdata\\anaconda3\\lib\\site-packages (from requests->folium) (3.7)\n",
      "Requirement already satisfied: urllib3<3,>=1.21.1 in c:\\programdata\\anaconda3\\lib\\site-packages (from requests->folium) (2.2.3)\n",
      "Requirement already satisfied: certifi>=2017.4.17 in c:\\programdata\\anaconda3\\lib\\site-packages (from requests->folium) (2024.8.30)\n",
      "✅ Map generated. Number of lakes: 30\n"
     ]
    }
   ],
   "source": [
    "!pip install pandas folium\n",
    "\n",
    "import pandas as pd\n",
    "import folium\n",
    "\n",
    "# Loading data and rounding to 5 decimals\n",
    "df = pd.read_csv(\"lake_polygons_decimal.csv\")\n",
    "df[\"Latitude_DD\"] = df[\"Latitude_DD\"].round(5)\n",
    "df[\"Longitude_DD\"] = df[\"Longitude_DD\"].round(5)\n",
    "\n",
    "# Creating base map\n",
    "map_center = [df[\"Latitude_DD\"].mean(), df[\"Longitude_DD\"].mean()]\n",
    "lake_map = folium.Map(location=map_center, zoom_start=11)\n",
    "\n",
    "# Group by lake and plot polygons\n",
    "for lake_name, group in df.groupby(\"LAKE NAME\"):\n",
    "    coords = list(zip(group[\"Latitude_DD\"], group[\"Longitude_DD\"]))  # (lat, lon)\n",
    "    if coords[0] != coords[-1]:  # Ensure polygon closure\n",
    "        coords.append(coords[0])\n",
    "    folium.Polygon(\n",
    "        locations=coords,\n",
    "        tooltip=lake_name,\n",
    "        color=\"blue\",\n",
    "        weight=2,\n",
    "        fill=True,\n",
    "        fill_opacity=0.4\n",
    "    ).add_to(lake_map)\n",
    "\n",
    "lake_map.save(\"lake_polygons_map.html\")\n",
    "print(\"✅ Map generated. Number of lakes:\", df[\"LAKE NAME\"].nunique())\n"
   ]
  },
  {
   "cell_type": "code",
   "execution_count": null,
   "id": "c223237d-e0e2-4d12-826a-4515a3105e1c",
   "metadata": {},
   "outputs": [],
   "source": []
  }
 ],
 "metadata": {
  "kernelspec": {
   "display_name": "Python 3 (ipykernel)",
   "language": "python",
   "name": "python3"
  },
  "language_info": {
   "codemirror_mode": {
    "name": "ipython",
    "version": 3
   },
   "file_extension": ".py",
   "mimetype": "text/x-python",
   "name": "python",
   "nbconvert_exporter": "python",
   "pygments_lexer": "ipython3",
   "version": "3.12.7"
  }
 },
 "nbformat": 4,
 "nbformat_minor": 5
}
