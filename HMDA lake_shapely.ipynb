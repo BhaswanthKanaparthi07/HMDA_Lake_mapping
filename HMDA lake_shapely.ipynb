{
 "cells": [
  {
   "cell_type": "code",
   "execution_count": 5,
   "id": "bcf0afa0-33ed-4e71-84b8-369f2bc072b5",
   "metadata": {},
   "outputs": [
    {
     "name": "stdout",
     "output_type": "stream",
     "text": [
      "Defaulting to user installation because normal site-packages is not writeable\n",
      "Requirement already satisfied: shapely in c:\\users\\hemanth aditya\\appdata\\roaming\\python\\python312\\site-packages (2.1.1)\n",
      "Requirement already satisfied: numpy>=1.21 in c:\\programdata\\anaconda3\\lib\\site-packages (from shapely) (1.26.4)\n",
      "✅ Point is inside or on the boundary of: 0_Chillukala_Kunta_lake\n"
     ]
    }
   ],
   "source": [
    "!pip install shapely\n",
    "\n",
    "import pandas as pd\n",
    "from shapely.geometry import Point, Polygon\n",
    "\n",
    "# Load and round\n",
    "df = pd.read_csv(\"lake_polygons_decimal.csv\")\n",
    "df[\"Latitude_DD\"] = df[\"Latitude_DD\"].round(5)\n",
    "df[\"Longitude_DD\"] = df[\"Longitude_DD\"].round(5)\n",
    "\n",
    "# Build polygons\n",
    "lake_polygons = {}\n",
    "for lake_name, group in df.groupby(\"LAKE NAME\"):\n",
    "    coords = list(zip(group[\"Longitude_DD\"], group[\"Latitude_DD\"]))  # (lon, lat)\n",
    "    if coords[0] != coords[-1]:\n",
    "        coords.append(coords[0])\n",
    "    lake_polygons[lake_name] = Polygon(coords)\n",
    "\n",
    "# Point-in-polygon test\n",
    "def find_lake(lat, lon):\n",
    "    point = Point(round(lon, 5), round(lat, 5))\n",
    "    for lake_name, polygon in lake_polygons.items():\n",
    "        if polygon.buffer(1e-7).intersects(point):\n",
    "            return f\"✅ Point is inside or on the boundary of: {lake_name}\"\n",
    "    return \"❌ Point is not inside any known lake\"\n",
    "\n",
    "# Updated test\n",
    "lat_input = 17.44549\n",
    "lon_input = 78.32100\n",
    "print(find_lake(lat_input, lon_input))\n",
    "\n"
   ]
  },
  {
   "cell_type": "code",
   "execution_count": null,
   "id": "7f51f0d2-cbbf-4c1d-8df4-c4cfaf1c0a83",
   "metadata": {},
   "outputs": [],
   "source": []
  }
 ],
 "metadata": {
  "kernelspec": {
   "display_name": "Python 3 (ipykernel)",
   "language": "python",
   "name": "python3"
  },
  "language_info": {
   "codemirror_mode": {
    "name": "ipython",
    "version": 3
   },
   "file_extension": ".py",
   "mimetype": "text/x-python",
   "name": "python",
   "nbconvert_exporter": "python",
   "pygments_lexer": "ipython3",
   "version": "3.12.7"
  }
 },
 "nbformat": 4,
 "nbformat_minor": 5
}
